{
 "cells": [
  {
   "cell_type": "code",
   "execution_count": 2,
   "metadata": {},
   "outputs": [],
   "source": [
    "import pandas as pd\n",
    "import matplotlib.pyplot as plt\n",
    "import seaborn as sns"
   ]
  },
  {
   "cell_type": "code",
   "execution_count": 3,
   "metadata": {},
   "outputs": [],
   "source": [
    "df = pd.read_csv(\"australia_test_batting_cleaned.csv\")"
   ]
  },
  {
   "cell_type": "markdown",
   "metadata": {},
   "source": [
    "### Looking at the data"
   ]
  },
  {
   "cell_type": "code",
   "execution_count": 4,
   "metadata": {},
   "outputs": [
    {
     "data": {
      "text/html": [
       "<div>\n",
       "<style scoped>\n",
       "    .dataframe tbody tr th:only-of-type {\n",
       "        vertical-align: middle;\n",
       "    }\n",
       "\n",
       "    .dataframe tbody tr th {\n",
       "        vertical-align: top;\n",
       "    }\n",
       "\n",
       "    .dataframe thead th {\n",
       "        text-align: right;\n",
       "    }\n",
       "</style>\n",
       "<table border=\"1\" class=\"dataframe\">\n",
       "  <thead>\n",
       "    <tr style=\"text-align: right;\">\n",
       "      <th></th>\n",
       "      <th>Career Span</th>\n",
       "      <th>Matches</th>\n",
       "      <th>Innings</th>\n",
       "      <th>NO’s</th>\n",
       "      <th>Runs</th>\n",
       "      <th>HS</th>\n",
       "      <th>Average</th>\n",
       "      <th>100s</th>\n",
       "      <th>50s</th>\n",
       "      <th>0s</th>\n",
       "      <th>start_career</th>\n",
       "      <th>end_career</th>\n",
       "      <th>career_length</th>\n",
       "      <th>career_midpoint</th>\n",
       "      <th>matches_per_year</th>\n",
       "      <th>50_convergences</th>\n",
       "    </tr>\n",
       "  </thead>\n",
       "  <tbody>\n",
       "    <tr>\n",
       "      <th>0</th>\n",
       "      <td>1928-1932</td>\n",
       "      <td>4</td>\n",
       "      <td>7</td>\n",
       "      <td>0</td>\n",
       "      <td>143</td>\n",
       "      <td>41</td>\n",
       "      <td>20.42</td>\n",
       "      <td>0</td>\n",
       "      <td>0</td>\n",
       "      <td>0</td>\n",
       "      <td>1928</td>\n",
       "      <td>1932</td>\n",
       "      <td>5</td>\n",
       "      <td>1930</td>\n",
       "      <td>0.800000</td>\n",
       "      <td>NaN</td>\n",
       "    </tr>\n",
       "    <tr>\n",
       "      <th>1</th>\n",
       "      <td>2013-2017</td>\n",
       "      <td>4</td>\n",
       "      <td>7</td>\n",
       "      <td>1</td>\n",
       "      <td>195</td>\n",
       "      <td>98</td>\n",
       "      <td>32.50</td>\n",
       "      <td>0</td>\n",
       "      <td>1</td>\n",
       "      <td>0</td>\n",
       "      <td>2013</td>\n",
       "      <td>2017</td>\n",
       "      <td>5</td>\n",
       "      <td>2015</td>\n",
       "      <td>0.800000</td>\n",
       "      <td>0.0</td>\n",
       "    </tr>\n",
       "    <tr>\n",
       "      <th>2</th>\n",
       "      <td>1981-1991</td>\n",
       "      <td>41</td>\n",
       "      <td>53</td>\n",
       "      <td>22</td>\n",
       "      <td>203</td>\n",
       "      <td>26</td>\n",
       "      <td>6.54</td>\n",
       "      <td>0</td>\n",
       "      <td>0</td>\n",
       "      <td>13</td>\n",
       "      <td>1981</td>\n",
       "      <td>1991</td>\n",
       "      <td>11</td>\n",
       "      <td>1986</td>\n",
       "      <td>3.727273</td>\n",
       "      <td>NaN</td>\n",
       "    </tr>\n",
       "    <tr>\n",
       "      <th>3</th>\n",
       "      <td>1880-1884</td>\n",
       "      <td>2</td>\n",
       "      <td>4</td>\n",
       "      <td>0</td>\n",
       "      <td>52</td>\n",
       "      <td>33</td>\n",
       "      <td>13.00</td>\n",
       "      <td>0</td>\n",
       "      <td>0</td>\n",
       "      <td>0</td>\n",
       "      <td>1880</td>\n",
       "      <td>1884</td>\n",
       "      <td>5</td>\n",
       "      <td>1882</td>\n",
       "      <td>0.400000</td>\n",
       "      <td>NaN</td>\n",
       "    </tr>\n",
       "    <tr>\n",
       "      <th>4</th>\n",
       "      <td>1933-1933</td>\n",
       "      <td>1</td>\n",
       "      <td>2</td>\n",
       "      <td>1</td>\n",
       "      <td>17</td>\n",
       "      <td>17</td>\n",
       "      <td>17.00</td>\n",
       "      <td>0</td>\n",
       "      <td>0</td>\n",
       "      <td>1</td>\n",
       "      <td>1933</td>\n",
       "      <td>1933</td>\n",
       "      <td>1</td>\n",
       "      <td>1933</td>\n",
       "      <td>1.000000</td>\n",
       "      <td>NaN</td>\n",
       "    </tr>\n",
       "  </tbody>\n",
       "</table>\n",
       "</div>"
      ],
      "text/plain": [
       "  Career Span  Matches  Innings  NO’s  Runs  HS  Average  100s  50s  0s  \\\n",
       "0   1928-1932        4        7     0   143  41    20.42     0    0   0   \n",
       "1   2013-2017        4        7     1   195  98    32.50     0    1   0   \n",
       "2   1981-1991       41       53    22   203  26     6.54     0    0  13   \n",
       "3   1880-1884        2        4     0    52  33    13.00     0    0   0   \n",
       "4   1933-1933        1        2     1    17  17    17.00     0    0   1   \n",
       "\n",
       "   start_career  end_career  career_length  career_midpoint  matches_per_year  \\\n",
       "0          1928        1932              5             1930          0.800000   \n",
       "1          2013        2017              5             2015          0.800000   \n",
       "2          1981        1991             11             1986          3.727273   \n",
       "3          1880        1884              5             1882          0.400000   \n",
       "4          1933        1933              1             1933          1.000000   \n",
       "\n",
       "   50_convergences  \n",
       "0              NaN  \n",
       "1              0.0  \n",
       "2              NaN  \n",
       "3              NaN  \n",
       "4              NaN  "
      ]
     },
     "execution_count": 4,
     "metadata": {},
     "output_type": "execute_result"
    }
   ],
   "source": [
    "df.head()"
   ]
  },
  {
   "cell_type": "code",
   "execution_count": 5,
   "metadata": {},
   "outputs": [
    {
     "data": {
      "text/html": [
       "<div>\n",
       "<style scoped>\n",
       "    .dataframe tbody tr th:only-of-type {\n",
       "        vertical-align: middle;\n",
       "    }\n",
       "\n",
       "    .dataframe tbody tr th {\n",
       "        vertical-align: top;\n",
       "    }\n",
       "\n",
       "    .dataframe thead th {\n",
       "        text-align: right;\n",
       "    }\n",
       "</style>\n",
       "<table border=\"1\" class=\"dataframe\">\n",
       "  <thead>\n",
       "    <tr style=\"text-align: right;\">\n",
       "      <th></th>\n",
       "      <th>Matches</th>\n",
       "      <th>Innings</th>\n",
       "      <th>NO’s</th>\n",
       "      <th>Runs</th>\n",
       "      <th>HS</th>\n",
       "      <th>Average</th>\n",
       "      <th>100s</th>\n",
       "      <th>50s</th>\n",
       "      <th>0s</th>\n",
       "      <th>start_career</th>\n",
       "      <th>end_career</th>\n",
       "      <th>career_length</th>\n",
       "      <th>career_midpoint</th>\n",
       "      <th>matches_per_year</th>\n",
       "      <th>50_convergences</th>\n",
       "    </tr>\n",
       "  </thead>\n",
       "  <tbody>\n",
       "    <tr>\n",
       "      <th>count</th>\n",
       "      <td>443.000000</td>\n",
       "      <td>443.000000</td>\n",
       "      <td>443.000000</td>\n",
       "      <td>443.000000</td>\n",
       "      <td>443.000000</td>\n",
       "      <td>443.000000</td>\n",
       "      <td>443.000000</td>\n",
       "      <td>443.000000</td>\n",
       "      <td>443.000000</td>\n",
       "      <td>443.000000</td>\n",
       "      <td>443.000000</td>\n",
       "      <td>443.000000</td>\n",
       "      <td>443.000000</td>\n",
       "      <td>443.000000</td>\n",
       "      <td>232.000000</td>\n",
       "    </tr>\n",
       "    <tr>\n",
       "      <th>mean</th>\n",
       "      <td>20.571106</td>\n",
       "      <td>32.753950</td>\n",
       "      <td>4.329571</td>\n",
       "      <td>926.566591</td>\n",
       "      <td>79.110609</td>\n",
       "      <td>22.545327</td>\n",
       "      <td>1.943567</td>\n",
       "      <td>4.144470</td>\n",
       "      <td>3.300226</td>\n",
       "      <td>1954.489842</td>\n",
       "      <td>1959.277652</td>\n",
       "      <td>5.787810</td>\n",
       "      <td>1956.681716</td>\n",
       "      <td>3.076323</td>\n",
       "      <td>0.228783</td>\n",
       "    </tr>\n",
       "    <tr>\n",
       "      <th>std</th>\n",
       "      <td>27.033100</td>\n",
       "      <td>43.626868</td>\n",
       "      <td>6.619572</td>\n",
       "      <td>1755.029175</td>\n",
       "      <td>72.731104</td>\n",
       "      <td>16.366699</td>\n",
       "      <td>5.213884</td>\n",
       "      <td>8.376431</td>\n",
       "      <td>4.415898</td>\n",
       "      <td>43.062900</td>\n",
       "      <td>42.982077</td>\n",
       "      <td>4.830159</td>\n",
       "      <td>42.934553</td>\n",
       "      <td>2.196432</td>\n",
       "      <td>0.250353</td>\n",
       "    </tr>\n",
       "    <tr>\n",
       "      <th>min</th>\n",
       "      <td>1.000000</td>\n",
       "      <td>1.000000</td>\n",
       "      <td>0.000000</td>\n",
       "      <td>0.000000</td>\n",
       "      <td>0.000000</td>\n",
       "      <td>0.000000</td>\n",
       "      <td>0.000000</td>\n",
       "      <td>0.000000</td>\n",
       "      <td>0.000000</td>\n",
       "      <td>1877.000000</td>\n",
       "      <td>1877.000000</td>\n",
       "      <td>1.000000</td>\n",
       "      <td>1877.000000</td>\n",
       "      <td>0.285714</td>\n",
       "      <td>0.000000</td>\n",
       "    </tr>\n",
       "    <tr>\n",
       "      <th>25%</th>\n",
       "      <td>3.000000</td>\n",
       "      <td>5.000000</td>\n",
       "      <td>0.000000</td>\n",
       "      <td>52.000000</td>\n",
       "      <td>23.000000</td>\n",
       "      <td>10.400000</td>\n",
       "      <td>0.000000</td>\n",
       "      <td>0.000000</td>\n",
       "      <td>0.000000</td>\n",
       "      <td>1920.500000</td>\n",
       "      <td>1927.000000</td>\n",
       "      <td>2.000000</td>\n",
       "      <td>1924.000000</td>\n",
       "      <td>1.309524</td>\n",
       "      <td>0.000000</td>\n",
       "    </tr>\n",
       "    <tr>\n",
       "      <th>50%</th>\n",
       "      <td>10.000000</td>\n",
       "      <td>15.000000</td>\n",
       "      <td>2.000000</td>\n",
       "      <td>234.000000</td>\n",
       "      <td>53.000000</td>\n",
       "      <td>20.000000</td>\n",
       "      <td>0.000000</td>\n",
       "      <td>1.000000</td>\n",
       "      <td>2.000000</td>\n",
       "      <td>1964.000000</td>\n",
       "      <td>1968.000000</td>\n",
       "      <td>4.000000</td>\n",
       "      <td>1966.000000</td>\n",
       "      <td>2.500000</td>\n",
       "      <td>0.216374</td>\n",
       "    </tr>\n",
       "    <tr>\n",
       "      <th>75%</th>\n",
       "      <td>26.500000</td>\n",
       "      <td>42.000000</td>\n",
       "      <td>6.000000</td>\n",
       "      <td>955.000000</td>\n",
       "      <td>120.500000</td>\n",
       "      <td>31.860000</td>\n",
       "      <td>1.000000</td>\n",
       "      <td>4.000000</td>\n",
       "      <td>5.000000</td>\n",
       "      <td>1987.000000</td>\n",
       "      <td>1993.500000</td>\n",
       "      <td>9.000000</td>\n",
       "      <td>1989.500000</td>\n",
       "      <td>4.128788</td>\n",
       "      <td>0.352778</td>\n",
       "    </tr>\n",
       "    <tr>\n",
       "      <th>max</th>\n",
       "      <td>168.000000</td>\n",
       "      <td>287.000000</td>\n",
       "      <td>51.000000</td>\n",
       "      <td>13378.000000</td>\n",
       "      <td>380.000000</td>\n",
       "      <td>144.000000</td>\n",
       "      <td>41.000000</td>\n",
       "      <td>63.000000</td>\n",
       "      <td>35.000000</td>\n",
       "      <td>2019.000000</td>\n",
       "      <td>2020.000000</td>\n",
       "      <td>23.000000</td>\n",
       "      <td>2019.000000</td>\n",
       "      <td>11.000000</td>\n",
       "      <td>1.000000</td>\n",
       "    </tr>\n",
       "  </tbody>\n",
       "</table>\n",
       "</div>"
      ],
      "text/plain": [
       "          Matches     Innings        NO’s          Runs          HS  \\\n",
       "count  443.000000  443.000000  443.000000    443.000000  443.000000   \n",
       "mean    20.571106   32.753950    4.329571    926.566591   79.110609   \n",
       "std     27.033100   43.626868    6.619572   1755.029175   72.731104   \n",
       "min      1.000000    1.000000    0.000000      0.000000    0.000000   \n",
       "25%      3.000000    5.000000    0.000000     52.000000   23.000000   \n",
       "50%     10.000000   15.000000    2.000000    234.000000   53.000000   \n",
       "75%     26.500000   42.000000    6.000000    955.000000  120.500000   \n",
       "max    168.000000  287.000000   51.000000  13378.000000  380.000000   \n",
       "\n",
       "          Average        100s         50s          0s  start_career  \\\n",
       "count  443.000000  443.000000  443.000000  443.000000    443.000000   \n",
       "mean    22.545327    1.943567    4.144470    3.300226   1954.489842   \n",
       "std     16.366699    5.213884    8.376431    4.415898     43.062900   \n",
       "min      0.000000    0.000000    0.000000    0.000000   1877.000000   \n",
       "25%     10.400000    0.000000    0.000000    0.000000   1920.500000   \n",
       "50%     20.000000    0.000000    1.000000    2.000000   1964.000000   \n",
       "75%     31.860000    1.000000    4.000000    5.000000   1987.000000   \n",
       "max    144.000000   41.000000   63.000000   35.000000   2019.000000   \n",
       "\n",
       "        end_career  career_length  career_midpoint  matches_per_year  \\\n",
       "count   443.000000     443.000000       443.000000        443.000000   \n",
       "mean   1959.277652       5.787810      1956.681716          3.076323   \n",
       "std      42.982077       4.830159        42.934553          2.196432   \n",
       "min    1877.000000       1.000000      1877.000000          0.285714   \n",
       "25%    1927.000000       2.000000      1924.000000          1.309524   \n",
       "50%    1968.000000       4.000000      1966.000000          2.500000   \n",
       "75%    1993.500000       9.000000      1989.500000          4.128788   \n",
       "max    2020.000000      23.000000      2019.000000         11.000000   \n",
       "\n",
       "       50_convergences  \n",
       "count       232.000000  \n",
       "mean          0.228783  \n",
       "std           0.250353  \n",
       "min           0.000000  \n",
       "25%           0.000000  \n",
       "50%           0.216374  \n",
       "75%           0.352778  \n",
       "max           1.000000  "
      ]
     },
     "execution_count": 5,
     "metadata": {},
     "output_type": "execute_result"
    }
   ],
   "source": [
    "df.describe()"
   ]
  },
  {
   "cell_type": "markdown",
   "metadata": {},
   "source": [
    "### Looking at the distributions"
   ]
  },
  {
   "cell_type": "code",
   "execution_count": 47,
   "metadata": {},
   "outputs": [
    {
     "data": {
      "image/png": "[encoded data removed]",
      "text/plain": [
       "<Figure size 432x288 with 1 Axes>"
      ]
     },
     "metadata": {
      "needs_background": "light"
     },
     "output_type": "display_data"
    }
   ],
   "source": [
    "plt.hist(np.clip(df.Average, -1, 80), bins=30)\n",
    "plt.title('Histogram of Averages')\n",
    "plt.xlabel('Averages')\n",
    "plt.ylabel('Freq')\n",
    "plt.savefig('test averages hisogram.png', dpi=300)\n",
    "plt.show()\n",
    "\n",
    "#seems to be expon dist, maybe norm"
   ]
  },
  {
   "cell_type": "code",
   "execution_count": 46,
   "metadata": {},
   "outputs": [
    {
     "data": {
      "image/png": "[encoded data removed]",
      "text/plain": [
       "<Figure size 432x288 with 1 Axes>"
      ]
     },
     "metadata": {
      "needs_background": "light"
     },
     "output_type": "display_data"
    }
   ],
   "source": [
    "df.Matches.hist()\n",
    "plt.title('Histogram of Matches')\n",
    "plt.savefig('test matches hisogram.png', dpi=300)\n",
    "plt.show()\n",
    "#seeems expon dist"
   ]
  },
  {
   "cell_type": "code",
   "execution_count": 8,
   "metadata": {},
   "outputs": [
    {
     "data": {
      "image/png": "[encoded data removed]",
      "text/plain": [
       "<Figure size 432x288 with 1 Axes>"
      ]
     },
     "metadata": {
      "needs_background": "light"
     },
     "output_type": "display_data"
    }
   ],
   "source": [
    "df.HS.hist()\n",
    "plt.title('Histogram of High Scores')\n",
    "\n",
    "plt.show()"
   ]
  },
  {
   "cell_type": "code",
   "execution_count": 9,
   "metadata": {},
   "outputs": [
    {
     "data": {
      "image/png": "[encoded data removed]",
      "text/plain": [
       "<Figure size 432x288 with 1 Axes>"
      ]
     },
     "metadata": {
      "needs_background": "light"
     },
     "output_type": "display_data"
    }
   ],
   "source": [
    "df.matches_per_year.hist()\n",
    "plt.title('Histogram of Matches per Year')\n",
    "\n",
    "plt.show()"
   ]
  },
  {
   "cell_type": "code",
   "execution_count": 10,
   "metadata": {},
   "outputs": [
    {
     "data": {
      "image/png": "[encoded data removed]",
      "text/plain": [
       "<Figure size 432x288 with 1 Axes>"
      ]
     },
     "metadata": {
      "needs_background": "light"
     },
     "output_type": "display_data"
    }
   ],
   "source": [
    "df.career_length.hist()\n",
    "plt.title('Histogram of Career Lengths')\n",
    "\n",
    "plt.show()"
   ]
  },
  {
   "cell_type": "code",
   "execution_count": 11,
   "metadata": {},
   "outputs": [
    {
     "data": {
      "image/png": "[encoded data removed]",
      "text/plain": [
       "<Figure size 432x288 with 1 Axes>"
      ]
     },
     "metadata": {
      "needs_background": "light"
     },
     "output_type": "display_data"
    }
   ],
   "source": [
    "df[\"50_convergences\"].hist()\n",
    "plt.title('Histogram of 50 Convergence Ratios')\n",
    "\n",
    "plt.show()"
   ]
  },
  {
   "cell_type": "markdown",
   "metadata": {},
   "source": [
    "### Looking at correlations"
   ]
  },
  {
   "cell_type": "code",
   "execution_count": 12,
   "metadata": {},
   "outputs": [
    {
     "data": {
      "text/html": [
       "<div>\n",
       "<style scoped>\n",
       "    .dataframe tbody tr th:only-of-type {\n",
       "        vertical-align: middle;\n",
       "    }\n",
       "\n",
       "    .dataframe tbody tr th {\n",
       "        vertical-align: top;\n",
       "    }\n",
       "\n",
       "    .dataframe thead th {\n",
       "        text-align: right;\n",
       "    }\n",
       "</style>\n",
       "<table border=\"1\" class=\"dataframe\">\n",
       "  <thead>\n",
       "    <tr style=\"text-align: right;\">\n",
       "      <th></th>\n",
       "      <th>Innings</th>\n",
       "      <th>Runs</th>\n",
       "      <th>HS</th>\n",
       "      <th>Average</th>\n",
       "      <th>100s</th>\n",
       "      <th>50s</th>\n",
       "      <th>0s</th>\n",
       "      <th>career_length</th>\n",
       "      <th>matches_per_year</th>\n",
       "      <th>50_convergences</th>\n",
       "      <th>career_midpoint</th>\n",
       "    </tr>\n",
       "  </thead>\n",
       "  <tbody>\n",
       "    <tr>\n",
       "      <th>Innings</th>\n",
       "      <td>1.000000</td>\n",
       "      <td>0.918272</td>\n",
       "      <td>0.680409</td>\n",
       "      <td>0.424764</td>\n",
       "      <td>0.801930</td>\n",
       "      <td>0.884372</td>\n",
       "      <td>0.786566</td>\n",
       "      <td>0.729972</td>\n",
       "      <td>0.695323</td>\n",
       "      <td>0.125147</td>\n",
       "      <td>0.247289</td>\n",
       "    </tr>\n",
       "    <tr>\n",
       "      <th>Runs</th>\n",
       "      <td>0.918272</td>\n",
       "      <td>1.000000</td>\n",
       "      <td>0.757387</td>\n",
       "      <td>0.555449</td>\n",
       "      <td>0.958218</td>\n",
       "      <td>0.965704</td>\n",
       "      <td>0.551218</td>\n",
       "      <td>0.614006</td>\n",
       "      <td>0.594305</td>\n",
       "      <td>0.261656</td>\n",
       "      <td>0.218604</td>\n",
       "    </tr>\n",
       "    <tr>\n",
       "      <th>HS</th>\n",
       "      <td>0.680409</td>\n",
       "      <td>0.757387</td>\n",
       "      <td>1.000000</td>\n",
       "      <td>0.780782</td>\n",
       "      <td>0.716888</td>\n",
       "      <td>0.720748</td>\n",
       "      <td>0.359227</td>\n",
       "      <td>0.591299</td>\n",
       "      <td>0.501387</td>\n",
       "      <td>0.543970</td>\n",
       "      <td>0.175701</td>\n",
       "    </tr>\n",
       "    <tr>\n",
       "      <th>Average</th>\n",
       "      <td>0.424764</td>\n",
       "      <td>0.555449</td>\n",
       "      <td>0.780782</td>\n",
       "      <td>1.000000</td>\n",
       "      <td>0.547111</td>\n",
       "      <td>0.543876</td>\n",
       "      <td>0.118322</td>\n",
       "      <td>0.345184</td>\n",
       "      <td>0.334765</td>\n",
       "      <td>0.483740</td>\n",
       "      <td>0.167733</td>\n",
       "    </tr>\n",
       "    <tr>\n",
       "      <th>100s</th>\n",
       "      <td>0.801930</td>\n",
       "      <td>0.958218</td>\n",
       "      <td>0.716888</td>\n",
       "      <td>0.547111</td>\n",
       "      <td>1.000000</td>\n",
       "      <td>0.888717</td>\n",
       "      <td>0.427796</td>\n",
       "      <td>0.510157</td>\n",
       "      <td>0.490942</td>\n",
       "      <td>0.368814</td>\n",
       "      <td>0.188349</td>\n",
       "    </tr>\n",
       "    <tr>\n",
       "      <th>50s</th>\n",
       "      <td>0.884372</td>\n",
       "      <td>0.965704</td>\n",
       "      <td>0.720748</td>\n",
       "      <td>0.543876</td>\n",
       "      <td>0.888717</td>\n",
       "      <td>1.000000</td>\n",
       "      <td>0.498722</td>\n",
       "      <td>0.568726</td>\n",
       "      <td>0.578725</td>\n",
       "      <td>0.169682</td>\n",
       "      <td>0.217013</td>\n",
       "    </tr>\n",
       "    <tr>\n",
       "      <th>0s</th>\n",
       "      <td>0.786566</td>\n",
       "      <td>0.551218</td>\n",
       "      <td>0.359227</td>\n",
       "      <td>0.118322</td>\n",
       "      <td>0.427796</td>\n",
       "      <td>0.498722</td>\n",
       "      <td>1.000000</td>\n",
       "      <td>0.630510</td>\n",
       "      <td>0.594290</td>\n",
       "      <td>-0.042158</td>\n",
       "      <td>0.224429</td>\n",
       "    </tr>\n",
       "    <tr>\n",
       "      <th>career_length</th>\n",
       "      <td>0.729972</td>\n",
       "      <td>0.614006</td>\n",
       "      <td>0.591299</td>\n",
       "      <td>0.345184</td>\n",
       "      <td>0.510157</td>\n",
       "      <td>0.568726</td>\n",
       "      <td>0.630510</td>\n",
       "      <td>1.000000</td>\n",
       "      <td>0.261303</td>\n",
       "      <td>0.070821</td>\n",
       "      <td>-0.017487</td>\n",
       "    </tr>\n",
       "    <tr>\n",
       "      <th>matches_per_year</th>\n",
       "      <td>0.695323</td>\n",
       "      <td>0.594305</td>\n",
       "      <td>0.501387</td>\n",
       "      <td>0.334765</td>\n",
       "      <td>0.490942</td>\n",
       "      <td>0.578725</td>\n",
       "      <td>0.594290</td>\n",
       "      <td>0.261303</td>\n",
       "      <td>1.000000</td>\n",
       "      <td>-0.013706</td>\n",
       "      <td>0.405053</td>\n",
       "    </tr>\n",
       "    <tr>\n",
       "      <th>50_convergences</th>\n",
       "      <td>0.125147</td>\n",
       "      <td>0.261656</td>\n",
       "      <td>0.543970</td>\n",
       "      <td>0.483740</td>\n",
       "      <td>0.368814</td>\n",
       "      <td>0.169682</td>\n",
       "      <td>-0.042158</td>\n",
       "      <td>0.070821</td>\n",
       "      <td>-0.013706</td>\n",
       "      <td>1.000000</td>\n",
       "      <td>-0.043282</td>\n",
       "    </tr>\n",
       "    <tr>\n",
       "      <th>career_midpoint</th>\n",
       "      <td>0.247289</td>\n",
       "      <td>0.218604</td>\n",
       "      <td>0.175701</td>\n",
       "      <td>0.167733</td>\n",
       "      <td>0.188349</td>\n",
       "      <td>0.217013</td>\n",
       "      <td>0.224429</td>\n",
       "      <td>-0.017487</td>\n",
       "      <td>0.405053</td>\n",
       "      <td>-0.043282</td>\n",
       "      <td>1.000000</td>\n",
       "    </tr>\n",
       "  </tbody>\n",
       "</table>\n",
       "</div>"
      ],
      "text/plain": [
       "                   Innings      Runs        HS   Average      100s       50s  \\\n",
       "Innings           1.000000  0.918272  0.680409  0.424764  0.801930  0.884372   \n",
       "Runs              0.918272  1.000000  0.757387  0.555449  0.958218  0.965704   \n",
       "HS                0.680409  0.757387  1.000000  0.780782  0.716888  0.720748   \n",
       "Average           0.424764  0.555449  0.780782  1.000000  0.547111  0.543876   \n",
       "100s              0.801930  0.958218  0.716888  0.547111  1.000000  0.888717   \n",
       "50s               0.884372  0.965704  0.720748  0.543876  0.888717  1.000000   \n",
       "0s                0.786566  0.551218  0.359227  0.118322  0.427796  0.498722   \n",
       "career_length     0.729972  0.614006  0.591299  0.345184  0.510157  0.568726   \n",
       "matches_per_year  0.695323  0.594305  0.501387  0.334765  0.490942  0.578725   \n",
       "50_convergences   0.125147  0.261656  0.543970  0.483740  0.368814  0.169682   \n",
       "career_midpoint   0.247289  0.218604  0.175701  0.167733  0.188349  0.217013   \n",
       "\n",
       "                        0s  career_length  matches_per_year  50_convergences  \\\n",
       "Innings           0.786566       0.729972          0.695323         0.125147   \n",
       "Runs              0.551218       0.614006          0.594305         0.261656   \n",
       "HS                0.359227       0.591299          0.501387         0.543970   \n",
       "Average           0.118322       0.345184          0.334765         0.483740   \n",
       "100s              0.427796       0.510157          0.490942         0.368814   \n",
       "50s               0.498722       0.568726          0.578725         0.169682   \n",
       "0s                1.000000       0.630510          0.594290        -0.042158   \n",
       "career_length     0.630510       1.000000          0.261303         0.070821   \n",
       "matches_per_year  0.594290       0.261303          1.000000        -0.013706   \n",
       "50_convergences  -0.042158       0.070821         -0.013706         1.000000   \n",
       "career_midpoint   0.224429      -0.017487          0.405053        -0.043282   \n",
       "\n",
       "                  career_midpoint  \n",
       "Innings                  0.247289  \n",
       "Runs                     0.218604  \n",
       "HS                       0.175701  \n",
       "Average                  0.167733  \n",
       "100s                     0.188349  \n",
       "50s                      0.217013  \n",
       "0s                       0.224429  \n",
       "career_length           -0.017487  \n",
       "matches_per_year         0.405053  \n",
       "50_convergences         -0.043282  \n",
       "career_midpoint          1.000000  "
      ]
     },
     "execution_count": 12,
     "metadata": {},
     "output_type": "execute_result"
    }
   ],
   "source": [
    "df[[\"Innings\",\"Runs\",\"HS\",\"Average\",\"100s\",\"50s\",\"0s\",\"career_length\",\"matches_per_year\",\"50_convergences\",\"career_midpoint\"]].corr()"
   ]
  },
  {
   "cell_type": "code",
   "execution_count": 31,
   "metadata": {},
   "outputs": [
    {
     "data": {
      "image/png": "[encoded data removed]",
      "text/plain": [
       "<Figure size 1008x1008 with 2 Axes>"
      ]
     },
     "metadata": {
      "needs_background": "light"
     },
     "output_type": "display_data"
    }
   ],
   "source": [
    "cmap = sns.diverging_palette(220, 10, as_cmap=True)\n",
    "plt.figure(figsize=(14,14))\n",
    "sns.heatmap(df[[\"Innings\",\"Runs\",\"HS\",\"Average\",\"100s\",\"50s\",\"0s\",\"career_length\",\"matches_per_year\",\"50_convergences\",\"career_midpoint\"]].corr(), cmap=cmap, vmax=.8, center=0,\n",
    "            square=True, linewidths=.5, cbar_kws={\"shrink\": .5})\n",
    "plt.savefig('aus data heatmap.png', dpi=300)"
   ]
  },
  {
   "cell_type": "markdown",
   "metadata": {},
   "source": [
    "### Learning how to put cont data into ranges"
   ]
  },
  {
   "cell_type": "code",
   "execution_count": 14,
   "metadata": {},
   "outputs": [
    {
     "data": {
      "text/html": [
       "<div>\n",
       "<style scoped>\n",
       "    .dataframe tbody tr th:only-of-type {\n",
       "        vertical-align: middle;\n",
       "    }\n",
       "\n",
       "    .dataframe tbody tr th {\n",
       "        vertical-align: top;\n",
       "    }\n",
       "\n",
       "    .dataframe thead th {\n",
       "        text-align: right;\n",
       "    }\n",
       "</style>\n",
       "<table border=\"1\" class=\"dataframe\">\n",
       "  <thead>\n",
       "    <tr style=\"text-align: right;\">\n",
       "      <th></th>\n",
       "      <th></th>\n",
       "      <th>Average</th>\n",
       "    </tr>\n",
       "    <tr>\n",
       "      <th>career_length_ranges</th>\n",
       "      <th>HS_ranges</th>\n",
       "      <th></th>\n",
       "    </tr>\n",
       "  </thead>\n",
       "  <tbody>\n",
       "    <tr>\n",
       "      <th rowspan=\"6\" valign=\"top\">a:1-5 years</th>\n",
       "      <th>a:HS:0-50</th>\n",
       "      <td>11.775394</td>\n",
       "    </tr>\n",
       "    <tr>\n",
       "      <th>b:HS:51-100</th>\n",
       "      <td>28.283864</td>\n",
       "    </tr>\n",
       "    <tr>\n",
       "      <th>c:HS:101-150</th>\n",
       "      <td>36.416400</td>\n",
       "    </tr>\n",
       "    <tr>\n",
       "      <th>d:HS:151-200</th>\n",
       "      <td>40.037000</td>\n",
       "    </tr>\n",
       "    <tr>\n",
       "      <th>e:HS:201-250</th>\n",
       "      <td>59.655000</td>\n",
       "    </tr>\n",
       "    <tr>\n",
       "      <th>f:HS:251+</th>\n",
       "      <td>54.355000</td>\n",
       "    </tr>\n",
       "    <tr>\n",
       "      <th rowspan=\"6\" valign=\"top\">b:6-10 years</th>\n",
       "      <th>a:HS:0-50</th>\n",
       "      <td>11.452750</td>\n",
       "    </tr>\n",
       "    <tr>\n",
       "      <th>b:HS:51-100</th>\n",
       "      <td>20.259231</td>\n",
       "    </tr>\n",
       "    <tr>\n",
       "      <th>c:HS:101-150</th>\n",
       "      <td>31.050909</td>\n",
       "    </tr>\n",
       "    <tr>\n",
       "      <th>d:HS:151-200</th>\n",
       "      <td>39.798000</td>\n",
       "    </tr>\n",
       "    <tr>\n",
       "      <th>e:HS:201-250</th>\n",
       "      <td>43.720000</td>\n",
       "    </tr>\n",
       "    <tr>\n",
       "      <th>f:HS:251+</th>\n",
       "      <td>45.035000</td>\n",
       "    </tr>\n",
       "    <tr>\n",
       "      <th rowspan=\"6\" valign=\"top\">c:11+ years</th>\n",
       "      <th>a:HS:0-50</th>\n",
       "      <td>10.716364</td>\n",
       "    </tr>\n",
       "    <tr>\n",
       "      <th>b:HS:51-100</th>\n",
       "      <td>19.354286</td>\n",
       "    </tr>\n",
       "    <tr>\n",
       "      <th>c:HS:101-150</th>\n",
       "      <td>28.565455</td>\n",
       "    </tr>\n",
       "    <tr>\n",
       "      <th>d:HS:151-200</th>\n",
       "      <td>38.820000</td>\n",
       "    </tr>\n",
       "    <tr>\n",
       "      <th>e:HS:201-250</th>\n",
       "      <td>44.655385</td>\n",
       "    </tr>\n",
       "    <tr>\n",
       "      <th>f:HS:251+</th>\n",
       "      <td>55.734286</td>\n",
       "    </tr>\n",
       "  </tbody>\n",
       "</table>\n",
       "</div>"
      ],
      "text/plain": [
       "                                     Average\n",
       "career_length_ranges HS_ranges              \n",
       "a:1-5 years          a:HS:0-50     11.775394\n",
       "                     b:HS:51-100   28.283864\n",
       "                     c:HS:101-150  36.416400\n",
       "                     d:HS:151-200  40.037000\n",
       "                     e:HS:201-250  59.655000\n",
       "                     f:HS:251+     54.355000\n",
       "b:6-10 years         a:HS:0-50     11.452750\n",
       "                     b:HS:51-100   20.259231\n",
       "                     c:HS:101-150  31.050909\n",
       "                     d:HS:151-200  39.798000\n",
       "                     e:HS:201-250  43.720000\n",
       "                     f:HS:251+     45.035000\n",
       "c:11+ years          a:HS:0-50     10.716364\n",
       "                     b:HS:51-100   19.354286\n",
       "                     c:HS:101-150  28.565455\n",
       "                     d:HS:151-200  38.820000\n",
       "                     e:HS:201-250  44.655385\n",
       "                     f:HS:251+     55.734286"
      ]
     },
     "execution_count": 14,
     "metadata": {},
     "output_type": "execute_result"
    }
   ],
   "source": [
    "import numpy as np\n",
    "criteria = [df['career_length'].between(1, 5), df['career_length'].between(6, 10), df['career_length'].between(11, 25)]\n",
    "values = [\"a:1-5 years\",\"b:6-10 years\", \"c:11+ years\"]\n",
    "df['career_length_ranges'] = np.select(criteria, values, 0)\n",
    "\n",
    "criteria = [df['HS'].between(0, 50), df['HS'].between(51, 100), df['HS'].between(101,150), df['HS'].between(151,200), df['HS'].between(201,250), df['HS'].between(251,400)]\n",
    "values = [\"a:HS:0-50\",\"b:HS:51-100\", \"c:HS:101-150\", \"d:HS:151-200\", \"e:HS:201-250\", \"f:HS:251+\"]\n",
    "df['HS_ranges'] = np.select(criteria, values, 0)\n",
    "\n",
    "\n",
    "pd.pivot_table(df, index = [\"career_length_ranges\",\"HS_ranges\"], values = \"Average\")"
   ]
  },
  {
   "cell_type": "code",
   "execution_count": 15,
   "metadata": {},
   "outputs": [
    {
     "data": {
      "text/html": [
       "<div>\n",
       "<style scoped>\n",
       "    .dataframe tbody tr th:only-of-type {\n",
       "        vertical-align: middle;\n",
       "    }\n",
       "\n",
       "    .dataframe tbody tr th {\n",
       "        vertical-align: top;\n",
       "    }\n",
       "\n",
       "    .dataframe thead th {\n",
       "        text-align: right;\n",
       "    }\n",
       "</style>\n",
       "<table border=\"1\" class=\"dataframe\">\n",
       "  <thead>\n",
       "    <tr style=\"text-align: right;\">\n",
       "      <th></th>\n",
       "      <th>Average</th>\n",
       "    </tr>\n",
       "    <tr>\n",
       "      <th>matches_per_year_range</th>\n",
       "      <th></th>\n",
       "    </tr>\n",
       "  </thead>\n",
       "  <tbody>\n",
       "    <tr>\n",
       "      <th>0</th>\n",
       "      <td>24.814706</td>\n",
       "    </tr>\n",
       "    <tr>\n",
       "      <th>0-3</th>\n",
       "      <td>19.339364</td>\n",
       "    </tr>\n",
       "    <tr>\n",
       "      <th>4-7</th>\n",
       "      <td>27.814653</td>\n",
       "    </tr>\n",
       "    <tr>\n",
       "      <th>8+</th>\n",
       "      <td>34.462400</td>\n",
       "    </tr>\n",
       "  </tbody>\n",
       "</table>\n",
       "</div>"
      ],
      "text/plain": [
       "                          Average\n",
       "matches_per_year_range           \n",
       "0                       24.814706\n",
       "0-3                     19.339364\n",
       "4-7                     27.814653\n",
       "8+                      34.462400"
      ]
     },
     "execution_count": 15,
     "metadata": {},
     "output_type": "execute_result"
    }
   ],
   "source": [
    "criteria = [df['matches_per_year'].between(0, 3), df['matches_per_year'].between(4, 7), df['matches_per_year'].between(8, 25)]\n",
    "values = [\"0-3\",\"4-7\", \"8+\"]\n",
    "df['matches_per_year_range'] = np.select(criteria, values, 0)\n",
    "\n",
    "\n",
    "pd.pivot_table(df, index = \"matches_per_year_range\", values = \"Average\")"
   ]
  },
  {
   "cell_type": "markdown",
   "metadata": {},
   "source": [
    "### Scatter plots"
   ]
  },
  {
   "cell_type": "code",
   "execution_count": 51,
   "metadata": {},
   "outputs": [
    {
     "data": {
      "image/png": "[encoded data removed]",
      "text/plain": [
       "<Figure size 432x288 with 1 Axes>"
      ]
     },
     "metadata": {
      "needs_background": "light"
     },
     "output_type": "display_data"
    }
   ],
   "source": [
    "#plt.scatter(df.Innings,df.Runs,)\n",
    "sns.regplot(df['Innings'],df['Runs'])\n",
    "plt.show()"
   ]
  },
  {
   "cell_type": "code",
   "execution_count": 58,
   "metadata": {},
   "outputs": [
    {
     "data": {
      "image/png": "[encoded data removed]",
      "text/plain": [
       "<Figure size 432x288 with 1 Axes>"
      ]
     },
     "metadata": {
      "needs_background": "light"
     },
     "output_type": "display_data"
    }
   ],
   "source": [
    "sns.regplot(np.clip(df['Average'], 0, 80),df['Runs'])\n",
    "plt.show()"
   ]
  },
  {
   "cell_type": "code",
   "execution_count": 57,
   "metadata": {},
   "outputs": [
    {
     "data": {
      "image/png": "[encoded data removed]",
      "text/plain": [
       "<Figure size 432x288 with 1 Axes>"
      ]
     },
     "metadata": {
      "needs_background": "light"
     },
     "output_type": "display_data"
    }
   ],
   "source": [
    "sns.regplot(np.clip(df['Average'], 0, 80),df['HS'])\n",
    "plt.show()"
   ]
  },
  {
   "cell_type": "code",
   "execution_count": 56,
   "metadata": {},
   "outputs": [
    {
     "data": {
      "image/png": "[encoded data removed]",
      "text/plain": [
       "<Figure size 432x288 with 1 Axes>"
      ]
     },
     "metadata": {
      "needs_background": "light"
     },
     "output_type": "display_data"
    }
   ],
   "source": [
    "sns.regplot(np.clip(df['Average'], 0, 80),df['100s'])\n",
    "plt.show()"
   ]
  },
  {
   "cell_type": "code",
   "execution_count": 61,
   "metadata": {},
   "outputs": [
    {
     "data": {
      "image/png": "[encoded data removed]",
      "text/plain": [
       "<Figure size 432x288 with 1 Axes>"
      ]
     },
     "metadata": {
      "needs_background": "light"
     },
     "output_type": "display_data"
    }
   ],
   "source": [
    "sns.regplot(np.clip(df['Average'], 0, 80),df['50_convergences'])\n",
    "plt.show()"
   ]
  },
  {
   "cell_type": "markdown",
   "metadata": {},
   "source": [
    "Does seem as though some of the correllations would be better fitted to a parabola line. May be important to bare this in mind when constructing a model. \n",
    "I've removed the outliers in the averages data here. May be best to remove them from the original data set. For this example I won't do this as this is a good example of applying np.clip for me."
   ]
  }
 ],
 "metadata": {
  "kernelspec": {
   "display_name": "Python 3",
   "language": "python",
   "name": "python3"
  },
  "language_info": {
   "codemirror_mode": {
    "name": "ipython",
    "version": 3
   },
   "file_extension": ".py",
   "mimetype": "text/x-python",
   "name": "python",
   "nbconvert_exporter": "python",
   "pygments_lexer": "ipython3",
   "version": "3.7.3"
  }
 },
 "nbformat": 4,
 "nbformat_minor": 2
}
