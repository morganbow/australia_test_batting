{
 "cells": [
  {
   "cell_type": "code",
   "execution_count": 10,
   "metadata": {},
   "outputs": [],
   "source": [
    "import pandas as pd\n",
    "import matplotlib.pyplot as plt\n",
    "import seaborn as sns"
   ]
  },
  {
   "cell_type": "code",
   "execution_count": 11,
   "metadata": {},
   "outputs": [],
   "source": [
    "df = pd.read_csv(\"australia_test_batting_cleaned.csv\")"
   ]
  },
  {
   "cell_type": "code",
   "execution_count": 12,
   "metadata": {},
   "outputs": [
    {
     "data": {
      "text/html": [
       "<div>\n",
       "<style scoped>\n",
       "    .dataframe tbody tr th:only-of-type {\n",
       "        vertical-align: middle;\n",
       "    }\n",
       "\n",
       "    .dataframe tbody tr th {\n",
       "        vertical-align: top;\n",
       "    }\n",
       "\n",
       "    .dataframe thead th {\n",
       "        text-align: right;\n",
       "    }\n",
       "</style>\n",
       "<table border=\"1\" class=\"dataframe\">\n",
       "  <thead>\n",
       "    <tr style=\"text-align: right;\">\n",
       "      <th></th>\n",
       "      <th>Career Span</th>\n",
       "      <th>Matches</th>\n",
       "      <th>Innings</th>\n",
       "      <th>NO’s</th>\n",
       "      <th>Runs</th>\n",
       "      <th>HS</th>\n",
       "      <th>Average</th>\n",
       "      <th>100s</th>\n",
       "      <th>50s</th>\n",
       "      <th>0s</th>\n",
       "      <th>start_career</th>\n",
       "      <th>end_career</th>\n",
       "      <th>career_length</th>\n",
       "      <th>career_midpoint</th>\n",
       "      <th>matches_per_year</th>\n",
       "      <th>50_convergences</th>\n",
       "    </tr>\n",
       "  </thead>\n",
       "  <tbody>\n",
       "    <tr>\n",
       "      <th>0</th>\n",
       "      <td>1928-1932</td>\n",
       "      <td>4</td>\n",
       "      <td>7</td>\n",
       "      <td>0</td>\n",
       "      <td>143</td>\n",
       "      <td>41</td>\n",
       "      <td>20.42</td>\n",
       "      <td>0</td>\n",
       "      <td>0</td>\n",
       "      <td>0</td>\n",
       "      <td>1928</td>\n",
       "      <td>1932</td>\n",
       "      <td>5</td>\n",
       "      <td>1930</td>\n",
       "      <td>0.800000</td>\n",
       "      <td>NaN</td>\n",
       "    </tr>\n",
       "    <tr>\n",
       "      <th>1</th>\n",
       "      <td>2013-2017</td>\n",
       "      <td>4</td>\n",
       "      <td>7</td>\n",
       "      <td>1</td>\n",
       "      <td>195</td>\n",
       "      <td>98</td>\n",
       "      <td>32.50</td>\n",
       "      <td>0</td>\n",
       "      <td>1</td>\n",
       "      <td>0</td>\n",
       "      <td>2013</td>\n",
       "      <td>2017</td>\n",
       "      <td>5</td>\n",
       "      <td>2015</td>\n",
       "      <td>0.800000</td>\n",
       "      <td>0.0</td>\n",
       "    </tr>\n",
       "    <tr>\n",
       "      <th>2</th>\n",
       "      <td>1981-1991</td>\n",
       "      <td>41</td>\n",
       "      <td>53</td>\n",
       "      <td>22</td>\n",
       "      <td>203</td>\n",
       "      <td>26</td>\n",
       "      <td>6.54</td>\n",
       "      <td>0</td>\n",
       "      <td>0</td>\n",
       "      <td>13</td>\n",
       "      <td>1981</td>\n",
       "      <td>1991</td>\n",
       "      <td>11</td>\n",
       "      <td>1986</td>\n",
       "      <td>3.727273</td>\n",
       "      <td>NaN</td>\n",
       "    </tr>\n",
       "    <tr>\n",
       "      <th>3</th>\n",
       "      <td>1880-1884</td>\n",
       "      <td>2</td>\n",
       "      <td>4</td>\n",
       "      <td>0</td>\n",
       "      <td>52</td>\n",
       "      <td>33</td>\n",
       "      <td>13.00</td>\n",
       "      <td>0</td>\n",
       "      <td>0</td>\n",
       "      <td>0</td>\n",
       "      <td>1880</td>\n",
       "      <td>1884</td>\n",
       "      <td>5</td>\n",
       "      <td>1882</td>\n",
       "      <td>0.400000</td>\n",
       "      <td>NaN</td>\n",
       "    </tr>\n",
       "    <tr>\n",
       "      <th>4</th>\n",
       "      <td>1933-1933</td>\n",
       "      <td>1</td>\n",
       "      <td>2</td>\n",
       "      <td>1</td>\n",
       "      <td>17</td>\n",
       "      <td>17</td>\n",
       "      <td>17.00</td>\n",
       "      <td>0</td>\n",
       "      <td>0</td>\n",
       "      <td>1</td>\n",
       "      <td>1933</td>\n",
       "      <td>1933</td>\n",
       "      <td>1</td>\n",
       "      <td>1933</td>\n",
       "      <td>1.000000</td>\n",
       "      <td>NaN</td>\n",
       "    </tr>\n",
       "  </tbody>\n",
       "</table>\n",
       "</div>"
      ],
      "text/plain": [
       "  Career Span  Matches  Innings  NO’s  Runs  HS  Average  100s  50s  0s  \\\n",
       "0   1928-1932        4        7     0   143  41    20.42     0    0   0   \n",
       "1   2013-2017        4        7     1   195  98    32.50     0    1   0   \n",
       "2   1981-1991       41       53    22   203  26     6.54     0    0  13   \n",
       "3   1880-1884        2        4     0    52  33    13.00     0    0   0   \n",
       "4   1933-1933        1        2     1    17  17    17.00     0    0   1   \n",
       "\n",
       "   start_career  end_career  career_length  career_midpoint  matches_per_year  \\\n",
       "0          1928        1932              5             1930          0.800000   \n",
       "1          2013        2017              5             2015          0.800000   \n",
       "2          1981        1991             11             1986          3.727273   \n",
       "3          1880        1884              5             1882          0.400000   \n",
       "4          1933        1933              1             1933          1.000000   \n",
       "\n",
       "   50_convergences  \n",
       "0              NaN  \n",
       "1              0.0  \n",
       "2              NaN  \n",
       "3              NaN  \n",
       "4              NaN  "
      ]
     },
     "execution_count": 12,
     "metadata": {},
     "output_type": "execute_result"
    }
   ],
   "source": [
    "df.head()"
   ]
  },
  {
   "cell_type": "code",
   "execution_count": 13,
   "metadata": {},
   "outputs": [
    {
     "data": {
      "text/plain": [
       "Index(['Career Span', 'Matches', 'Innings', 'NO’s', 'Runs', 'HS', 'Average',\n",
       "       '100s', '50s', '0s', 'start_career', 'end_career', 'career_length',\n",
       "       'career_midpoint', 'matches_per_year', '50_convergences'],\n",
       "      dtype='object')"
      ]
     },
     "execution_count": 13,
     "metadata": {},
     "output_type": "execute_result"
    }
   ],
   "source": [
    "df.columns"
   ]
  },
  {
   "cell_type": "code",
   "execution_count": 14,
   "metadata": {},
   "outputs": [
    {
     "data": {
      "text/html": [
       "<div>\n",
       "<style scoped>\n",
       "    .dataframe tbody tr th:only-of-type {\n",
       "        vertical-align: middle;\n",
       "    }\n",
       "\n",
       "    .dataframe tbody tr th {\n",
       "        vertical-align: top;\n",
       "    }\n",
       "\n",
       "    .dataframe thead th {\n",
       "        text-align: right;\n",
       "    }\n",
       "</style>\n",
       "<table border=\"1\" class=\"dataframe\">\n",
       "  <thead>\n",
       "    <tr style=\"text-align: right;\">\n",
       "      <th></th>\n",
       "      <th>Matches</th>\n",
       "      <th>Innings</th>\n",
       "      <th>NO’s</th>\n",
       "      <th>Runs</th>\n",
       "      <th>HS</th>\n",
       "      <th>Average</th>\n",
       "      <th>100s</th>\n",
       "      <th>50s</th>\n",
       "      <th>0s</th>\n",
       "      <th>start_career</th>\n",
       "      <th>end_career</th>\n",
       "      <th>career_length</th>\n",
       "      <th>career_midpoint</th>\n",
       "      <th>matches_per_year</th>\n",
       "      <th>50_convergences</th>\n",
       "    </tr>\n",
       "  </thead>\n",
       "  <tbody>\n",
       "    <tr>\n",
       "      <th>count</th>\n",
       "      <td>443.000000</td>\n",
       "      <td>443.000000</td>\n",
       "      <td>443.000000</td>\n",
       "      <td>443.000000</td>\n",
       "      <td>443.000000</td>\n",
       "      <td>443.000000</td>\n",
       "      <td>443.000000</td>\n",
       "      <td>443.000000</td>\n",
       "      <td>443.000000</td>\n",
       "      <td>443.000000</td>\n",
       "      <td>443.000000</td>\n",
       "      <td>443.000000</td>\n",
       "      <td>443.000000</td>\n",
       "      <td>443.000000</td>\n",
       "      <td>232.000000</td>\n",
       "    </tr>\n",
       "    <tr>\n",
       "      <th>mean</th>\n",
       "      <td>20.571106</td>\n",
       "      <td>32.753950</td>\n",
       "      <td>4.329571</td>\n",
       "      <td>926.566591</td>\n",
       "      <td>79.110609</td>\n",
       "      <td>22.545327</td>\n",
       "      <td>1.943567</td>\n",
       "      <td>4.144470</td>\n",
       "      <td>3.300226</td>\n",
       "      <td>1954.489842</td>\n",
       "      <td>1959.277652</td>\n",
       "      <td>5.787810</td>\n",
       "      <td>1956.681716</td>\n",
       "      <td>3.076323</td>\n",
       "      <td>0.228783</td>\n",
       "    </tr>\n",
       "    <tr>\n",
       "      <th>std</th>\n",
       "      <td>27.033100</td>\n",
       "      <td>43.626868</td>\n",
       "      <td>6.619572</td>\n",
       "      <td>1755.029175</td>\n",
       "      <td>72.731104</td>\n",
       "      <td>16.366699</td>\n",
       "      <td>5.213884</td>\n",
       "      <td>8.376431</td>\n",
       "      <td>4.415898</td>\n",
       "      <td>43.062900</td>\n",
       "      <td>42.982077</td>\n",
       "      <td>4.830159</td>\n",
       "      <td>42.934553</td>\n",
       "      <td>2.196432</td>\n",
       "      <td>0.250353</td>\n",
       "    </tr>\n",
       "    <tr>\n",
       "      <th>min</th>\n",
       "      <td>1.000000</td>\n",
       "      <td>1.000000</td>\n",
       "      <td>0.000000</td>\n",
       "      <td>0.000000</td>\n",
       "      <td>0.000000</td>\n",
       "      <td>0.000000</td>\n",
       "      <td>0.000000</td>\n",
       "      <td>0.000000</td>\n",
       "      <td>0.000000</td>\n",
       "      <td>1877.000000</td>\n",
       "      <td>1877.000000</td>\n",
       "      <td>1.000000</td>\n",
       "      <td>1877.000000</td>\n",
       "      <td>0.285714</td>\n",
       "      <td>0.000000</td>\n",
       "    </tr>\n",
       "    <tr>\n",
       "      <th>25%</th>\n",
       "      <td>3.000000</td>\n",
       "      <td>5.000000</td>\n",
       "      <td>0.000000</td>\n",
       "      <td>52.000000</td>\n",
       "      <td>23.000000</td>\n",
       "      <td>10.400000</td>\n",
       "      <td>0.000000</td>\n",
       "      <td>0.000000</td>\n",
       "      <td>0.000000</td>\n",
       "      <td>1920.500000</td>\n",
       "      <td>1927.000000</td>\n",
       "      <td>2.000000</td>\n",
       "      <td>1924.000000</td>\n",
       "      <td>1.309524</td>\n",
       "      <td>0.000000</td>\n",
       "    </tr>\n",
       "    <tr>\n",
       "      <th>50%</th>\n",
       "      <td>10.000000</td>\n",
       "      <td>15.000000</td>\n",
       "      <td>2.000000</td>\n",
       "      <td>234.000000</td>\n",
       "      <td>53.000000</td>\n",
       "      <td>20.000000</td>\n",
       "      <td>0.000000</td>\n",
       "      <td>1.000000</td>\n",
       "      <td>2.000000</td>\n",
       "      <td>1964.000000</td>\n",
       "      <td>1968.000000</td>\n",
       "      <td>4.000000</td>\n",
       "      <td>1966.000000</td>\n",
       "      <td>2.500000</td>\n",
       "      <td>0.216374</td>\n",
       "    </tr>\n",
       "    <tr>\n",
       "      <th>75%</th>\n",
       "      <td>26.500000</td>\n",
       "      <td>42.000000</td>\n",
       "      <td>6.000000</td>\n",
       "      <td>955.000000</td>\n",
       "      <td>120.500000</td>\n",
       "      <td>31.860000</td>\n",
       "      <td>1.000000</td>\n",
       "      <td>4.000000</td>\n",
       "      <td>5.000000</td>\n",
       "      <td>1987.000000</td>\n",
       "      <td>1993.500000</td>\n",
       "      <td>9.000000</td>\n",
       "      <td>1989.500000</td>\n",
       "      <td>4.128788</td>\n",
       "      <td>0.352778</td>\n",
       "    </tr>\n",
       "    <tr>\n",
       "      <th>max</th>\n",
       "      <td>168.000000</td>\n",
       "      <td>287.000000</td>\n",
       "      <td>51.000000</td>\n",
       "      <td>13378.000000</td>\n",
       "      <td>380.000000</td>\n",
       "      <td>144.000000</td>\n",
       "      <td>41.000000</td>\n",
       "      <td>63.000000</td>\n",
       "      <td>35.000000</td>\n",
       "      <td>2019.000000</td>\n",
       "      <td>2020.000000</td>\n",
       "      <td>23.000000</td>\n",
       "      <td>2019.000000</td>\n",
       "      <td>11.000000</td>\n",
       "      <td>1.000000</td>\n",
       "    </tr>\n",
       "  </tbody>\n",
       "</table>\n",
       "</div>"
      ],
      "text/plain": [
       "          Matches     Innings        NO’s          Runs          HS  \\\n",
       "count  443.000000  443.000000  443.000000    443.000000  443.000000   \n",
       "mean    20.571106   32.753950    4.329571    926.566591   79.110609   \n",
       "std     27.033100   43.626868    6.619572   1755.029175   72.731104   \n",
       "min      1.000000    1.000000    0.000000      0.000000    0.000000   \n",
       "25%      3.000000    5.000000    0.000000     52.000000   23.000000   \n",
       "50%     10.000000   15.000000    2.000000    234.000000   53.000000   \n",
       "75%     26.500000   42.000000    6.000000    955.000000  120.500000   \n",
       "max    168.000000  287.000000   51.000000  13378.000000  380.000000   \n",
       "\n",
       "          Average        100s         50s          0s  start_career  \\\n",
       "count  443.000000  443.000000  443.000000  443.000000    443.000000   \n",
       "mean    22.545327    1.943567    4.144470    3.300226   1954.489842   \n",
       "std     16.366699    5.213884    8.376431    4.415898     43.062900   \n",
       "min      0.000000    0.000000    0.000000    0.000000   1877.000000   \n",
       "25%     10.400000    0.000000    0.000000    0.000000   1920.500000   \n",
       "50%     20.000000    0.000000    1.000000    2.000000   1964.000000   \n",
       "75%     31.860000    1.000000    4.000000    5.000000   1987.000000   \n",
       "max    144.000000   41.000000   63.000000   35.000000   2019.000000   \n",
       "\n",
       "        end_career  career_length  career_midpoint  matches_per_year  \\\n",
       "count   443.000000     443.000000       443.000000        443.000000   \n",
       "mean   1959.277652       5.787810      1956.681716          3.076323   \n",
       "std      42.982077       4.830159        42.934553          2.196432   \n",
       "min    1877.000000       1.000000      1877.000000          0.285714   \n",
       "25%    1927.000000       2.000000      1924.000000          1.309524   \n",
       "50%    1968.000000       4.000000      1966.000000          2.500000   \n",
       "75%    1993.500000       9.000000      1989.500000          4.128788   \n",
       "max    2020.000000      23.000000      2019.000000         11.000000   \n",
       "\n",
       "       50_convergences  \n",
       "count       232.000000  \n",
       "mean          0.228783  \n",
       "std           0.250353  \n",
       "min           0.000000  \n",
       "25%           0.000000  \n",
       "50%           0.216374  \n",
       "75%           0.352778  \n",
       "max           1.000000  "
      ]
     },
     "execution_count": 14,
     "metadata": {},
     "output_type": "execute_result"
    }
   ],
   "source": [
    "df.describe()"
   ]
  },
  {
   "cell_type": "code",
   "execution_count": 15,
   "metadata": {},
   "outputs": [
    {
     "data": {
      "text/plain": [
       "0      20.42\n",
       "1      32.50\n",
       "2       6.54\n",
       "3      13.00\n",
       "4      17.00\n",
       "5       5.00\n",
       "6      22.00\n",
       "7      26.90\n",
       "8       5.83\n",
       "9      26.00\n",
       "10     24.58\n",
       "11     38.68\n",
       "12     14.54\n",
       "13     26.14\n",
       "14     26.23\n",
       "15     23.08\n",
       "16     59.75\n",
       "17     40.47\n",
       "18     63.05\n",
       "19     27.85\n",
       "20     26.66\n",
       "21     22.80\n",
       "22      3.00\n",
       "23     44.60\n",
       "24     24.45\n",
       "25     23.66\n",
       "26     29.07\n",
       "27     16.90\n",
       "28     14.33\n",
       "29     15.68\n",
       "       ...  \n",
       "413     6.00\n",
       "414    48.26\n",
       "415     6.00\n",
       "416    17.32\n",
       "417    48.94\n",
       "418    39.00\n",
       "419    10.77\n",
       "420    35.19\n",
       "421    17.66\n",
       "422    41.81\n",
       "423    51.06\n",
       "424    23.36\n",
       "425    42.95\n",
       "426    22.53\n",
       "427    29.20\n",
       "428     6.18\n",
       "429    13.41\n",
       "430    25.54\n",
       "431     7.66\n",
       "432    31.83\n",
       "433    27.00\n",
       "434    46.00\n",
       "435     5.33\n",
       "436    10.50\n",
       "437    25.15\n",
       "438    16.84\n",
       "439    41.13\n",
       "440    19.56\n",
       "441     4.00\n",
       "442    20.50\n",
       "Name: Average, Length: 443, dtype: float64"
      ]
     },
     "execution_count": 15,
     "metadata": {},
     "output_type": "execute_result"
    }
   ],
   "source": [
    "df[\"Average\"]"
   ]
  },
  {
   "cell_type": "code",
   "execution_count": 16,
   "metadata": {},
   "outputs": [
    {
     "data": {
      "text/plain": [
       "Index(['Career Span', 'Matches', 'Innings', 'NO’s', 'Runs', 'HS', 'Average',\n",
       "       '100s', '50s', '0s', 'start_career', 'end_career', 'career_length',\n",
       "       'career_midpoint', 'matches_per_year', '50_convergences'],\n",
       "      dtype='object')"
      ]
     },
     "execution_count": 16,
     "metadata": {},
     "output_type": "execute_result"
    }
   ],
   "source": [
    "df.columns"
   ]
  },
  {
   "cell_type": "code",
   "execution_count": 17,
   "metadata": {},
   "outputs": [
    {
     "data": {
      "text/plain": [
       "<matplotlib.axes._subplots.AxesSubplot at 0x7f52cef70080>"
      ]
     },
     "execution_count": 17,
     "metadata": {},
     "output_type": "execute_result"
    },
    {
     "data": {
      "image/png": "[encoded data removed]",
      "text/plain": [
       "<Figure size 432x288 with 1 Axes>"
      ]
     },
     "metadata": {
      "needs_background": "light"
     },
     "output_type": "display_data"
    }
   ],
   "source": [
    "df.Average.hist()\n",
    "#seems to be expon dist"
   ]
  },
  {
   "cell_type": "code",
   "execution_count": 18,
   "metadata": {},
   "outputs": [
    {
     "data": {
      "text/plain": [
       "<matplotlib.axes._subplots.AxesSubplot at 0x7f52ce6fc0b8>"
      ]
     },
     "execution_count": 18,
     "metadata": {},
     "output_type": "execute_result"
    },
    {
     "data": {
      "image/png": "[encoded data removed]",
      "text/plain": [
       "<Figure size 432x288 with 1 Axes>"
      ]
     },
     "metadata": {
      "needs_background": "light"
     },
     "output_type": "display_data"
    }
   ],
   "source": [
    "df.Matches.hist()\n",
    "#also expon dist"
   ]
  },
  {
   "cell_type": "code",
   "execution_count": 19,
   "metadata": {},
   "outputs": [
    {
     "data": {
      "text/plain": [
       "<matplotlib.axes._subplots.AxesSubplot at 0x7f52ce716748>"
      ]
     },
     "execution_count": 19,
     "metadata": {},
     "output_type": "execute_result"
    },
    {
     "data": {
      "image/png": "[encoded data removed]",
      "text/plain": [
       "<Figure size 432x288 with 1 Axes>"
      ]
     },
     "metadata": {
      "needs_background": "light"
     },
     "output_type": "display_data"
    }
   ],
   "source": [
    "df.HS.hist()"
   ]
  },
  {
   "cell_type": "code",
   "execution_count": 20,
   "metadata": {},
   "outputs": [
    {
     "data": {
      "text/plain": [
       "<matplotlib.axes._subplots.AxesSubplot at 0x7f52ce598550>"
      ]
     },
     "execution_count": 20,
     "metadata": {},
     "output_type": "execute_result"
    },
    {
     "data": {
      "image/png": "[encoded data removed]",
      "text/plain": [
       "<Figure size 432x288 with 1 Axes>"
      ]
     },
     "metadata": {
      "needs_background": "light"
     },
     "output_type": "display_data"
    }
   ],
   "source": [
    "df.matches_per_year.hist()"
   ]
  },
  {
   "cell_type": "code",
   "execution_count": 21,
   "metadata": {},
   "outputs": [
    {
     "data": {
      "text/plain": [
       "<matplotlib.axes._subplots.AxesSubplot at 0x7f52ce533588>"
      ]
     },
     "execution_count": 21,
     "metadata": {},
     "output_type": "execute_result"
    },
    {
     "data": {
      "image/png": "[encoded data removed]",
      "text/plain": [
       "<Figure size 432x288 with 1 Axes>"
      ]
     },
     "metadata": {
      "needs_background": "light"
     },
     "output_type": "display_data"
    }
   ],
   "source": [
    "df.career_length.hist()"
   ]
  },
  {
   "cell_type": "code",
   "execution_count": 24,
   "metadata": {},
   "outputs": [
    {
     "data": {
      "text/plain": [
       "<matplotlib.axes._subplots.AxesSubplot at 0x7f52ce663358>"
      ]
     },
     "execution_count": 24,
     "metadata": {},
     "output_type": "execute_result"
    },
    {
     "data": {
      "image/png": "[encoded data removed]",
      "text/plain": [
       "<Figure size 432x288 with 1 Axes>"
      ]
     },
     "metadata": {
      "needs_background": "light"
     },
     "output_type": "display_data"
    }
   ],
   "source": [
    "df[\"50_convergences\"].hist()"
   ]
  },
  {
   "cell_type": "code",
   "execution_count": 25,
   "metadata": {},
   "outputs": [
    {
     "data": {
      "text/plain": [
       "Index(['Career Span', 'Matches', 'Innings', 'NO’s', 'Runs', 'HS', 'Average',\n",
       "       '100s', '50s', '0s', 'start_career', 'end_career', 'career_length',\n",
       "       'career_midpoint', 'matches_per_year', '50_convergences'],\n",
       "      dtype='object')"
      ]
     },
     "execution_count": 25,
     "metadata": {},
     "output_type": "execute_result"
    }
   ],
   "source": [
    "df.columns"
   ]
  },
  {
   "cell_type": "code",
   "execution_count": 28,
   "metadata": {},
   "outputs": [
    {
     "data": {
      "text/html": [
       "<div>\n",
       "<style scoped>\n",
       "    .dataframe tbody tr th:only-of-type {\n",
       "        vertical-align: middle;\n",
       "    }\n",
       "\n",
       "    .dataframe tbody tr th {\n",
       "        vertical-align: top;\n",
       "    }\n",
       "\n",
       "    .dataframe thead th {\n",
       "        text-align: right;\n",
       "    }\n",
       "</style>\n",
       "<table border=\"1\" class=\"dataframe\">\n",
       "  <thead>\n",
       "    <tr style=\"text-align: right;\">\n",
       "      <th></th>\n",
       "      <th>Innings</th>\n",
       "      <th>Runs</th>\n",
       "      <th>HS</th>\n",
       "      <th>Average</th>\n",
       "      <th>100s</th>\n",
       "      <th>50s</th>\n",
       "      <th>0s</th>\n",
       "      <th>career_length</th>\n",
       "      <th>matches_per_year</th>\n",
       "      <th>50_convergences</th>\n",
       "    </tr>\n",
       "  </thead>\n",
       "  <tbody>\n",
       "    <tr>\n",
       "      <th>Innings</th>\n",
       "      <td>1.000000</td>\n",
       "      <td>0.918272</td>\n",
       "      <td>0.680409</td>\n",
       "      <td>0.424764</td>\n",
       "      <td>0.801930</td>\n",
       "      <td>0.884372</td>\n",
       "      <td>0.786566</td>\n",
       "      <td>0.729972</td>\n",
       "      <td>0.695323</td>\n",
       "      <td>0.125147</td>\n",
       "    </tr>\n",
       "    <tr>\n",
       "      <th>Runs</th>\n",
       "      <td>0.918272</td>\n",
       "      <td>1.000000</td>\n",
       "      <td>0.757387</td>\n",
       "      <td>0.555449</td>\n",
       "      <td>0.958218</td>\n",
       "      <td>0.965704</td>\n",
       "      <td>0.551218</td>\n",
       "      <td>0.614006</td>\n",
       "      <td>0.594305</td>\n",
       "      <td>0.261656</td>\n",
       "    </tr>\n",
       "    <tr>\n",
       "      <th>HS</th>\n",
       "      <td>0.680409</td>\n",
       "      <td>0.757387</td>\n",
       "      <td>1.000000</td>\n",
       "      <td>0.780782</td>\n",
       "      <td>0.716888</td>\n",
       "      <td>0.720748</td>\n",
       "      <td>0.359227</td>\n",
       "      <td>0.591299</td>\n",
       "      <td>0.501387</td>\n",
       "      <td>0.543970</td>\n",
       "    </tr>\n",
       "    <tr>\n",
       "      <th>Average</th>\n",
       "      <td>0.424764</td>\n",
       "      <td>0.555449</td>\n",
       "      <td>0.780782</td>\n",
       "      <td>1.000000</td>\n",
       "      <td>0.547111</td>\n",
       "      <td>0.543876</td>\n",
       "      <td>0.118322</td>\n",
       "      <td>0.345184</td>\n",
       "      <td>0.334765</td>\n",
       "      <td>0.483740</td>\n",
       "    </tr>\n",
       "    <tr>\n",
       "      <th>100s</th>\n",
       "      <td>0.801930</td>\n",
       "      <td>0.958218</td>\n",
       "      <td>0.716888</td>\n",
       "      <td>0.547111</td>\n",
       "      <td>1.000000</td>\n",
       "      <td>0.888717</td>\n",
       "      <td>0.427796</td>\n",
       "      <td>0.510157</td>\n",
       "      <td>0.490942</td>\n",
       "      <td>0.368814</td>\n",
       "    </tr>\n",
       "    <tr>\n",
       "      <th>50s</th>\n",
       "      <td>0.884372</td>\n",
       "      <td>0.965704</td>\n",
       "      <td>0.720748</td>\n",
       "      <td>0.543876</td>\n",
       "      <td>0.888717</td>\n",
       "      <td>1.000000</td>\n",
       "      <td>0.498722</td>\n",
       "      <td>0.568726</td>\n",
       "      <td>0.578725</td>\n",
       "      <td>0.169682</td>\n",
       "    </tr>\n",
       "    <tr>\n",
       "      <th>0s</th>\n",
       "      <td>0.786566</td>\n",
       "      <td>0.551218</td>\n",
       "      <td>0.359227</td>\n",
       "      <td>0.118322</td>\n",
       "      <td>0.427796</td>\n",
       "      <td>0.498722</td>\n",
       "      <td>1.000000</td>\n",
       "      <td>0.630510</td>\n",
       "      <td>0.594290</td>\n",
       "      <td>-0.042158</td>\n",
       "    </tr>\n",
       "    <tr>\n",
       "      <th>career_length</th>\n",
       "      <td>0.729972</td>\n",
       "      <td>0.614006</td>\n",
       "      <td>0.591299</td>\n",
       "      <td>0.345184</td>\n",
       "      <td>0.510157</td>\n",
       "      <td>0.568726</td>\n",
       "      <td>0.630510</td>\n",
       "      <td>1.000000</td>\n",
       "      <td>0.261303</td>\n",
       "      <td>0.070821</td>\n",
       "    </tr>\n",
       "    <tr>\n",
       "      <th>matches_per_year</th>\n",
       "      <td>0.695323</td>\n",
       "      <td>0.594305</td>\n",
       "      <td>0.501387</td>\n",
       "      <td>0.334765</td>\n",
       "      <td>0.490942</td>\n",
       "      <td>0.578725</td>\n",
       "      <td>0.594290</td>\n",
       "      <td>0.261303</td>\n",
       "      <td>1.000000</td>\n",
       "      <td>-0.013706</td>\n",
       "    </tr>\n",
       "    <tr>\n",
       "      <th>50_convergences</th>\n",
       "      <td>0.125147</td>\n",
       "      <td>0.261656</td>\n",
       "      <td>0.543970</td>\n",
       "      <td>0.483740</td>\n",
       "      <td>0.368814</td>\n",
       "      <td>0.169682</td>\n",
       "      <td>-0.042158</td>\n",
       "      <td>0.070821</td>\n",
       "      <td>-0.013706</td>\n",
       "      <td>1.000000</td>\n",
       "    </tr>\n",
       "  </tbody>\n",
       "</table>\n",
       "</div>"
      ],
      "text/plain": [
       "                   Innings      Runs        HS   Average      100s       50s  \\\n",
       "Innings           1.000000  0.918272  0.680409  0.424764  0.801930  0.884372   \n",
       "Runs              0.918272  1.000000  0.757387  0.555449  0.958218  0.965704   \n",
       "HS                0.680409  0.757387  1.000000  0.780782  0.716888  0.720748   \n",
       "Average           0.424764  0.555449  0.780782  1.000000  0.547111  0.543876   \n",
       "100s              0.801930  0.958218  0.716888  0.547111  1.000000  0.888717   \n",
       "50s               0.884372  0.965704  0.720748  0.543876  0.888717  1.000000   \n",
       "0s                0.786566  0.551218  0.359227  0.118322  0.427796  0.498722   \n",
       "career_length     0.729972  0.614006  0.591299  0.345184  0.510157  0.568726   \n",
       "matches_per_year  0.695323  0.594305  0.501387  0.334765  0.490942  0.578725   \n",
       "50_convergences   0.125147  0.261656  0.543970  0.483740  0.368814  0.169682   \n",
       "\n",
       "                        0s  career_length  matches_per_year  50_convergences  \n",
       "Innings           0.786566       0.729972          0.695323         0.125147  \n",
       "Runs              0.551218       0.614006          0.594305         0.261656  \n",
       "HS                0.359227       0.591299          0.501387         0.543970  \n",
       "Average           0.118322       0.345184          0.334765         0.483740  \n",
       "100s              0.427796       0.510157          0.490942         0.368814  \n",
       "50s               0.498722       0.568726          0.578725         0.169682  \n",
       "0s                1.000000       0.630510          0.594290        -0.042158  \n",
       "career_length     0.630510       1.000000          0.261303         0.070821  \n",
       "matches_per_year  0.594290       0.261303          1.000000        -0.013706  \n",
       "50_convergences  -0.042158       0.070821         -0.013706         1.000000  "
      ]
     },
     "execution_count": 28,
     "metadata": {},
     "output_type": "execute_result"
    }
   ],
   "source": [
    "df[[\"Innings\",\"Runs\",\"HS\",\"Average\",\"100s\",\"50s\",\"0s\",\"career_length\",\"matches_per_year\",\"50_convergences\"]].corr()"
   ]
  },
  {
   "cell_type": "code",
   "execution_count": 30,
   "metadata": {},
   "outputs": [
    {
     "data": {
      "text/plain": [
       "<matplotlib.axes._subplots.AxesSubplot at 0x7f52cc2c8a58>"
      ]
     },
     "execution_count": 30,
     "metadata": {},
     "output_type": "execute_result"
    },
    {
     "data": {
      "image/png": "[encoded data removed]",
      "text/plain": [
       "<Figure size 432x288 with 2 Axes>"
      ]
     },
     "metadata": {
      "needs_background": "light"
     },
     "output_type": "display_data"
    }
   ],
   "source": [
    "cmap = sns.diverging_palette(220, 10, as_cmap=True)\n",
    "sns.heatmap(df[[\"Innings\",\"Runs\",\"HS\",\"Average\",\"100s\",\"50s\",\"0s\",\"career_length\",\"matches_per_year\",\"50_convergences\"]].corr(), cmap=cmap, vmax=.8, center=0,\n",
    "            square=True, linewidths=.5, cbar_kws={\"shrink\": .5})"
   ]
  },
  {
   "cell_type": "code",
   "execution_count": 71,
   "metadata": {},
   "outputs": [
    {
     "data": {
      "text/html": [
       "<div>\n",
       "<style scoped>\n",
       "    .dataframe tbody tr th:only-of-type {\n",
       "        vertical-align: middle;\n",
       "    }\n",
       "\n",
       "    .dataframe tbody tr th {\n",
       "        vertical-align: top;\n",
       "    }\n",
       "\n",
       "    .dataframe thead th {\n",
       "        text-align: right;\n",
       "    }\n",
       "</style>\n",
       "<table border=\"1\" class=\"dataframe\">\n",
       "  <thead>\n",
       "    <tr style=\"text-align: right;\">\n",
       "      <th></th>\n",
       "      <th></th>\n",
       "      <th>Average</th>\n",
       "    </tr>\n",
       "    <tr>\n",
       "      <th>career_length_ranges</th>\n",
       "      <th>HS_ranges</th>\n",
       "      <th></th>\n",
       "    </tr>\n",
       "  </thead>\n",
       "  <tbody>\n",
       "    <tr>\n",
       "      <th rowspan=\"6\" valign=\"top\">a:1-5 years</th>\n",
       "      <th>a:HS:0-50</th>\n",
       "      <td>11.775394</td>\n",
       "    </tr>\n",
       "    <tr>\n",
       "      <th>b:HS:51-100</th>\n",
       "      <td>28.283864</td>\n",
       "    </tr>\n",
       "    <tr>\n",
       "      <th>c:HS:101-150</th>\n",
       "      <td>36.416400</td>\n",
       "    </tr>\n",
       "    <tr>\n",
       "      <th>d:HS:151-200</th>\n",
       "      <td>40.037000</td>\n",
       "    </tr>\n",
       "    <tr>\n",
       "      <th>e:HS:201-250</th>\n",
       "      <td>59.655000</td>\n",
       "    </tr>\n",
       "    <tr>\n",
       "      <th>f:HS:251+</th>\n",
       "      <td>54.355000</td>\n",
       "    </tr>\n",
       "    <tr>\n",
       "      <th rowspan=\"6\" valign=\"top\">b:6-10 years</th>\n",
       "      <th>a:HS:0-50</th>\n",
       "      <td>11.452750</td>\n",
       "    </tr>\n",
       "    <tr>\n",
       "      <th>b:HS:51-100</th>\n",
       "      <td>20.259231</td>\n",
       "    </tr>\n",
       "    <tr>\n",
       "      <th>c:HS:101-150</th>\n",
       "      <td>31.050909</td>\n",
       "    </tr>\n",
       "    <tr>\n",
       "      <th>d:HS:151-200</th>\n",
       "      <td>39.798000</td>\n",
       "    </tr>\n",
       "    <tr>\n",
       "      <th>e:HS:201-250</th>\n",
       "      <td>43.720000</td>\n",
       "    </tr>\n",
       "    <tr>\n",
       "      <th>f:HS:251+</th>\n",
       "      <td>45.035000</td>\n",
       "    </tr>\n",
       "    <tr>\n",
       "      <th rowspan=\"6\" valign=\"top\">c:11+ years</th>\n",
       "      <th>a:HS:0-50</th>\n",
       "      <td>10.716364</td>\n",
       "    </tr>\n",
       "    <tr>\n",
       "      <th>b:HS:51-100</th>\n",
       "      <td>19.354286</td>\n",
       "    </tr>\n",
       "    <tr>\n",
       "      <th>c:HS:101-150</th>\n",
       "      <td>28.565455</td>\n",
       "    </tr>\n",
       "    <tr>\n",
       "      <th>d:HS:151-200</th>\n",
       "      <td>38.820000</td>\n",
       "    </tr>\n",
       "    <tr>\n",
       "      <th>e:HS:201-250</th>\n",
       "      <td>44.655385</td>\n",
       "    </tr>\n",
       "    <tr>\n",
       "      <th>f:HS:251+</th>\n",
       "      <td>55.734286</td>\n",
       "    </tr>\n",
       "  </tbody>\n",
       "</table>\n",
       "</div>"
      ],
      "text/plain": [
       "                                     Average\n",
       "career_length_ranges HS_ranges              \n",
       "a:1-5 years          a:HS:0-50     11.775394\n",
       "                     b:HS:51-100   28.283864\n",
       "                     c:HS:101-150  36.416400\n",
       "                     d:HS:151-200  40.037000\n",
       "                     e:HS:201-250  59.655000\n",
       "                     f:HS:251+     54.355000\n",
       "b:6-10 years         a:HS:0-50     11.452750\n",
       "                     b:HS:51-100   20.259231\n",
       "                     c:HS:101-150  31.050909\n",
       "                     d:HS:151-200  39.798000\n",
       "                     e:HS:201-250  43.720000\n",
       "                     f:HS:251+     45.035000\n",
       "c:11+ years          a:HS:0-50     10.716364\n",
       "                     b:HS:51-100   19.354286\n",
       "                     c:HS:101-150  28.565455\n",
       "                     d:HS:151-200  38.820000\n",
       "                     e:HS:201-250  44.655385\n",
       "                     f:HS:251+     55.734286"
      ]
     },
     "execution_count": 71,
     "metadata": {},
     "output_type": "execute_result"
    }
   ],
   "source": [
    "import numpy as np\n",
    "criteria = [df['career_length'].between(1, 5), df['career_length'].between(6, 10), df['career_length'].between(11, 25)]\n",
    "values = [\"a:1-5 years\",\"b:6-10 years\", \"c:11+ years\"]\n",
    "df['career_length_ranges'] = np.select(criteria, values, 0)\n",
    "\n",
    "criteria = [df['HS'].between(0, 50), df['HS'].between(51, 100), df['HS'].between(101,150), df['HS'].between(151,200), df['HS'].between(201,250), df['HS'].between(251,400)]\n",
    "values = [\"a:HS:0-50\",\"b:HS:51-100\", \"c:HS:101-150\", \"d:HS:151-200\", \"e:HS:201-250\", \"f:HS:251+\"]\n",
    "df['HS_ranges'] = np.select(criteria, values, 0)\n",
    "\n",
    "\n",
    "pd.pivot_table(df, index = [\"career_length_ranges\",\"HS_ranges\"], values = \"Average\")"
   ]
  },
  {
   "cell_type": "code",
   "execution_count": 81,
   "metadata": {},
   "outputs": [
    {
     "data": {
      "text/html": [
       "<div>\n",
       "<style scoped>\n",
       "    .dataframe tbody tr th:only-of-type {\n",
       "        vertical-align: middle;\n",
       "    }\n",
       "\n",
       "    .dataframe tbody tr th {\n",
       "        vertical-align: top;\n",
       "    }\n",
       "\n",
       "    .dataframe thead th {\n",
       "        text-align: right;\n",
       "    }\n",
       "</style>\n",
       "<table border=\"1\" class=\"dataframe\">\n",
       "  <thead>\n",
       "    <tr style=\"text-align: right;\">\n",
       "      <th></th>\n",
       "      <th>Average</th>\n",
       "    </tr>\n",
       "    <tr>\n",
       "      <th>matches_per_year_range</th>\n",
       "      <th></th>\n",
       "    </tr>\n",
       "  </thead>\n",
       "  <tbody>\n",
       "    <tr>\n",
       "      <th>0</th>\n",
       "      <td>24.814706</td>\n",
       "    </tr>\n",
       "    <tr>\n",
       "      <th>0-3</th>\n",
       "      <td>19.339364</td>\n",
       "    </tr>\n",
       "    <tr>\n",
       "      <th>4-7</th>\n",
       "      <td>27.814653</td>\n",
       "    </tr>\n",
       "    <tr>\n",
       "      <th>8+</th>\n",
       "      <td>34.462400</td>\n",
       "    </tr>\n",
       "  </tbody>\n",
       "</table>\n",
       "</div>"
      ],
      "text/plain": [
       "                          Average\n",
       "matches_per_year_range           \n",
       "0                       24.814706\n",
       "0-3                     19.339364\n",
       "4-7                     27.814653\n",
       "8+                      34.462400"
      ]
     },
     "execution_count": 81,
     "metadata": {},
     "output_type": "execute_result"
    }
   ],
   "source": [
    "criteria = [df['matches_per_year'].between(0, 3), df['matches_per_year'].between(4, 7), df['matches_per_year'].between(8, 25)]\n",
    "values = [\"0-3\",\"4-7\", \"8+\"]\n",
    "df['matches_per_year_range'] = np.select(criteria, values, 0)\n",
    "\n",
    "\n",
    "pd.pivot_table(df, index = \"matches_per_year_range\", values = \"Average\")"
   ]
  },
  {
   "cell_type": "code",
   "execution_count": 77,
   "metadata": {
    "scrolled": true
   },
   "outputs": [
    {
     "data": {
      "text/plain": [
       "0       0.800000\n",
       "1       0.800000\n",
       "2       3.727273\n",
       "3       0.400000\n",
       "4       1.000000\n",
       "5       1.000000\n",
       "6       1.000000\n",
       "7       2.666667\n",
       "8       1.333333\n",
       "9       2.500000\n",
       "10      4.750000\n",
       "11      2.500000\n",
       "12      2.333333\n",
       "13      2.500000\n",
       "14      3.333333\n",
       "15      1.866667\n",
       "16      1.000000\n",
       "17      2.277778\n",
       "18      1.181818\n",
       "19      4.000000\n",
       "20      2.000000\n",
       "21      3.000000\n",
       "22      1.000000\n",
       "23      1.500000\n",
       "24      4.846154\n",
       "25      1.500000\n",
       "26      3.600000\n",
       "27      2.714286\n",
       "28      1.500000\n",
       "29      1.944444\n",
       "         ...    \n",
       "413     1.000000\n",
       "414     4.352941\n",
       "415     1.333333\n",
       "416     9.062500\n",
       "417     8.400000\n",
       "418     1.000000\n",
       "419     0.714286\n",
       "420     5.363636\n",
       "421     4.000000\n",
       "422    10.666667\n",
       "423     8.400000\n",
       "424     0.857143\n",
       "425     6.000000\n",
       "426     7.000000\n",
       "427     4.000000\n",
       "428     1.000000\n",
       "429     3.500000\n",
       "430     3.000000\n",
       "431     2.000000\n",
       "432     5.363636\n",
       "433     1.000000\n",
       "434     3.888889\n",
       "435     3.000000\n",
       "436     1.000000\n",
       "437     0.733333\n",
       "438    10.000000\n",
       "439     4.333333\n",
       "440     5.500000\n",
       "441     1.000000\n",
       "442     5.000000\n",
       "Name: matches_per_year, Length: 443, dtype: float64"
      ]
     },
     "execution_count": 77,
     "metadata": {},
     "output_type": "execute_result"
    }
   ],
   "source": [
    "df[\"matches_per_year\"]"
   ]
  },
  {
   "cell_type": "code",
   "execution_count": null,
   "metadata": {},
   "outputs": [],
   "source": []
  }
 ],
 "metadata": {
  "kernelspec": {
   "display_name": "Python 3",
   "language": "python",
   "name": "python3"
  },
  "language_info": {
   "codemirror_mode": {
    "name": "ipython",
    "version": 3
   },
   "file_extension": ".py",
   "mimetype": "text/x-python",
   "name": "python",
   "nbconvert_exporter": "python",
   "pygments_lexer": "ipython3",
   "version": "3.7.3"
  }
 },
 "nbformat": 4,
 "nbformat_minor": 2
}
